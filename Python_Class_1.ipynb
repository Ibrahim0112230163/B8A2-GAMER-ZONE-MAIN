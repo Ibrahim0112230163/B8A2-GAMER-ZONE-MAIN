{
  "nbformat": 4,
  "nbformat_minor": 0,
  "metadata": {
    "colab": {
      "provenance": [],
      "authorship_tag": "ABX9TyNV4BXSWs2M6SgWIjU29er4",
      "include_colab_link": true
    },
    "kernelspec": {
      "name": "python3",
      "display_name": "Python 3"
    },
    "language_info": {
      "name": "python"
    }
  },
  "cells": [
    {
      "cell_type": "markdown",
      "metadata": {
        "id": "view-in-github",
        "colab_type": "text"
      },
      "source": [
        "<a href=\"https://colab.research.google.com/github/Ibrahim0112230163/B8A2-GAMER-ZONE-MAIN/blob/main/Python_Class_1.ipynb\" target=\"_parent\"><img src=\"https://colab.research.google.com/assets/colab-badge.svg\" alt=\"Open In Colab\"/></a>"
      ]
    },
    {
      "cell_type": "markdown",
      "source": [
        "## BASIC"
      ],
      "metadata": {
        "id": "bTvivolIBKCa"
      }
    },
    {
      "cell_type": "code",
      "execution_count": null,
      "metadata": {
        "id": "jiAQSD3s-h0C"
      },
      "outputs": [],
      "source": [
        "print(\"Hello Word\")\n"
      ]
    },
    {
      "cell_type": "code",
      "source": [
        "a = 10\n",
        "b= 2.0\n",
        "c= 'AI'\n",
        "print(a,b,c)\n",
        "\n",
        "print(type(a))\n",
        "print(type(b))\n",
        "print(type(c))\n",
        "print(a+b)\n",
        "\n",
        "print(str(b)+c)"
      ],
      "metadata": {
        "id": "yYIvovla_Y7Z"
      },
      "execution_count": null,
      "outputs": []
    },
    {
      "cell_type": "code",
      "source": [
        "a,b,c = 50,20,'AI'\n",
        "a,b = b,a\n",
        "print (a,b,c)\n"
      ],
      "metadata": {
        "id": "w1_lrRDkAmzO"
      },
      "execution_count": null,
      "outputs": []
    },
    {
      "cell_type": "code",
      "source": [
        "if a>b:\n",
        "  print(\"A is grater\")\n",
        "elif b>a:\n",
        "    print(\"B is grater\")\n",
        "else\n",
        "    print('Same')\n",
        "print(a,b)"
      ],
      "metadata": {
        "id": "RzKyemSTBl7g"
      },
      "execution_count": null,
      "outputs": []
    },
    {
      "cell_type": "code",
      "source": [
        "a=5\n",
        "a+=1 #6\n",
        "a*=2.0 #12.0\n",
        "\n",
        "\n",
        "# print(a%5);\n",
        "12.5 % 5%5\n",
        "\n",
        "a**2\n"
      ],
      "metadata": {
        "collapsed": true,
        "id": "Zx5WCYBtCqzg"
      },
      "execution_count": null,
      "outputs": []
    },
    {
      "cell_type": "code",
      "source": [
        "# scanf\n",
        "# cin\n",
        "# scanner\n",
        "x = input(\"Enter a number: \")\n",
        "print(type(x))\n",
        "\n",
        "int(x)+10"
      ],
      "metadata": {
        "id": "7r_abADpDyzo"
      },
      "execution_count": null,
      "outputs": []
    },
    {
      "cell_type": "code",
      "source": [
        "students = 35\n",
        "print(f\"There are {students} students in the class\")"
      ],
      "metadata": {
        "id": "QQGIYXGkEtnx"
      },
      "execution_count": null,
      "outputs": []
    }
  ]
}